{
 "cells": [
  {
   "cell_type": "code",
   "execution_count": 2,
   "metadata": {},
   "outputs": [],
   "source": [
    "import json\n",
    "with open('./train_data.json') as f:\n",
    "    train_data = json.load(f)"
   ]
  },
  {
   "cell_type": "code",
   "execution_count": 4,
   "metadata": {},
   "outputs": [],
   "source": [
    "train_positive = 0\n",
    "train_negative = 0\n",
    "train_neutral = 0"
   ]
  },
  {
   "cell_type": "code",
   "execution_count": 5,
   "metadata": {},
   "outputs": [],
   "source": [
    "for data in train_data:\n",
    "    if data['tag'] == 'positive':\n",
    "        train_positive += 1\n",
    "    elif data['tag'] == 'negative':\n",
    "        train_negative += 1\n",
    "    elif data['tag'] == 'neutral':\n",
    "        train_neutral += 1"
   ]
  },
  {
   "cell_type": "code",
   "execution_count": 6,
   "metadata": {},
   "outputs": [
    {
     "name": "stdout",
     "output_type": "stream",
     "text": [
      "train_positive: 2388\n",
      "train_negative: 1193\n",
      "train_neutral: 419\n"
     ]
    }
   ],
   "source": [
    "print('train_positive:', train_positive)\n",
    "print('train_negative:', train_negative)\n",
    "print('train_neutral:', train_neutral)"
   ]
  }
 ],
 "metadata": {
  "kernelspec": {
   "display_name": "pytorch_gpu",
   "language": "python",
   "name": "python3"
  },
  "language_info": {
   "codemirror_mode": {
    "name": "ipython",
    "version": 3
   },
   "file_extension": ".py",
   "mimetype": "text/x-python",
   "name": "python",
   "nbconvert_exporter": "python",
   "pygments_lexer": "ipython3",
   "version": "3.9.12"
  },
  "orig_nbformat": 4
 },
 "nbformat": 4,
 "nbformat_minor": 2
}
